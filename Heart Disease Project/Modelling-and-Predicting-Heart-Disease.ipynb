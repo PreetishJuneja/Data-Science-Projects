{
 "cells": [
  {
   "cell_type": "markdown",
   "metadata": {},
   "source": [
    "# Modelling and prediction of heart disease"
   ]
  },
  {
   "cell_type": "code",
   "execution_count": 1,
   "metadata": {},
   "outputs": [
    {
     "data": {
      "text/html": [
       "<div>\n",
       "<style scoped>\n",
       "    .dataframe tbody tr th:only-of-type {\n",
       "        vertical-align: middle;\n",
       "    }\n",
       "\n",
       "    .dataframe tbody tr th {\n",
       "        vertical-align: top;\n",
       "    }\n",
       "\n",
       "    .dataframe thead th {\n",
       "        text-align: right;\n",
       "    }\n",
       "</style>\n",
       "<table border=\"1\" class=\"dataframe\">\n",
       "  <thead>\n",
       "    <tr style=\"text-align: right;\">\n",
       "      <th></th>\n",
       "      <th>age</th>\n",
       "      <th>sex</th>\n",
       "      <th>cp</th>\n",
       "      <th>trestbps</th>\n",
       "      <th>chol</th>\n",
       "      <th>fbs</th>\n",
       "      <th>restecg</th>\n",
       "      <th>thalach</th>\n",
       "      <th>exang</th>\n",
       "      <th>oldpeak</th>\n",
       "      <th>slope</th>\n",
       "      <th>ca</th>\n",
       "      <th>thal</th>\n",
       "      <th>target</th>\n",
       "    </tr>\n",
       "  </thead>\n",
       "  <tbody>\n",
       "    <tr>\n",
       "      <th>0</th>\n",
       "      <td>63</td>\n",
       "      <td>1</td>\n",
       "      <td>3</td>\n",
       "      <td>145</td>\n",
       "      <td>233</td>\n",
       "      <td>1</td>\n",
       "      <td>0</td>\n",
       "      <td>150</td>\n",
       "      <td>0</td>\n",
       "      <td>2.3</td>\n",
       "      <td>0</td>\n",
       "      <td>0</td>\n",
       "      <td>1</td>\n",
       "      <td>1</td>\n",
       "    </tr>\n",
       "    <tr>\n",
       "      <th>1</th>\n",
       "      <td>37</td>\n",
       "      <td>1</td>\n",
       "      <td>2</td>\n",
       "      <td>130</td>\n",
       "      <td>250</td>\n",
       "      <td>0</td>\n",
       "      <td>1</td>\n",
       "      <td>187</td>\n",
       "      <td>0</td>\n",
       "      <td>3.5</td>\n",
       "      <td>0</td>\n",
       "      <td>0</td>\n",
       "      <td>2</td>\n",
       "      <td>1</td>\n",
       "    </tr>\n",
       "    <tr>\n",
       "      <th>2</th>\n",
       "      <td>41</td>\n",
       "      <td>0</td>\n",
       "      <td>1</td>\n",
       "      <td>130</td>\n",
       "      <td>204</td>\n",
       "      <td>0</td>\n",
       "      <td>0</td>\n",
       "      <td>172</td>\n",
       "      <td>0</td>\n",
       "      <td>1.4</td>\n",
       "      <td>2</td>\n",
       "      <td>0</td>\n",
       "      <td>2</td>\n",
       "      <td>1</td>\n",
       "    </tr>\n",
       "    <tr>\n",
       "      <th>3</th>\n",
       "      <td>56</td>\n",
       "      <td>1</td>\n",
       "      <td>1</td>\n",
       "      <td>120</td>\n",
       "      <td>236</td>\n",
       "      <td>0</td>\n",
       "      <td>1</td>\n",
       "      <td>178</td>\n",
       "      <td>0</td>\n",
       "      <td>0.8</td>\n",
       "      <td>2</td>\n",
       "      <td>0</td>\n",
       "      <td>2</td>\n",
       "      <td>1</td>\n",
       "    </tr>\n",
       "    <tr>\n",
       "      <th>4</th>\n",
       "      <td>57</td>\n",
       "      <td>0</td>\n",
       "      <td>0</td>\n",
       "      <td>120</td>\n",
       "      <td>354</td>\n",
       "      <td>0</td>\n",
       "      <td>1</td>\n",
       "      <td>163</td>\n",
       "      <td>1</td>\n",
       "      <td>0.6</td>\n",
       "      <td>2</td>\n",
       "      <td>0</td>\n",
       "      <td>2</td>\n",
       "      <td>1</td>\n",
       "    </tr>\n",
       "  </tbody>\n",
       "</table>\n",
       "</div>"
      ],
      "text/plain": [
       "   age  sex  cp  trestbps  chol  fbs  restecg  thalach  exang  oldpeak  slope  \\\n",
       "0   63    1   3       145   233    1        0      150      0      2.3      0   \n",
       "1   37    1   2       130   250    0        1      187      0      3.5      0   \n",
       "2   41    0   1       130   204    0        0      172      0      1.4      2   \n",
       "3   56    1   1       120   236    0        1      178      0      0.8      2   \n",
       "4   57    0   0       120   354    0        1      163      1      0.6      2   \n",
       "\n",
       "   ca  thal  target  \n",
       "0   0     1       1  \n",
       "1   0     2       1  \n",
       "2   0     2       1  \n",
       "3   0     2       1  \n",
       "4   0     2       1  "
      ]
     },
     "execution_count": 1,
     "metadata": {},
     "output_type": "execute_result"
    }
   ],
   "source": [
    "import pandas as pd\n",
    "df = pd.read_csv('heart.csv')\n",
    "df.head()"
   ]
  },
  {
   "cell_type": "markdown",
   "metadata": {},
   "source": [
    "### Attribute Information\n",
    "1. age\n",
    "2. sex (0=female and 1=male)\n",
    "3. chest pain type (4 values)\n",
    "4. resting blood pressure\n",
    "5. serum cholestoral in mg/dl\n",
    "6. fasting blood sugar > 120 mg/dl\n",
    "7. resting electrocardiographic results (values 0,1,2)\n",
    "8. maximum heart rate achieved\n",
    "9. exercise induced angina\n",
    "10. oldpeak = ST depression induced by exercise relative to rest\n",
    "11. the slope of the peak exercise ST segment\n",
    "12. number of major vessels (0-3) colored by flourosopy\n",
    "13. thal: 0 = normal; 1 = fixed defect; 2 = reversable defect\n",
    "14. target: 0= less chance of heart attack 1= more chance of heart attack"
   ]
  },
  {
   "cell_type": "markdown",
   "metadata": {},
   "source": [
    "### Cleaning the data and extracting important features"
   ]
  },
  {
   "cell_type": "code",
   "execution_count": 3,
   "metadata": {},
   "outputs": [
    {
     "data": {
      "text/html": [
       "<div>\n",
       "<style scoped>\n",
       "    .dataframe tbody tr th:only-of-type {\n",
       "        vertical-align: middle;\n",
       "    }\n",
       "\n",
       "    .dataframe tbody tr th {\n",
       "        vertical-align: top;\n",
       "    }\n",
       "\n",
       "    .dataframe thead th {\n",
       "        text-align: right;\n",
       "    }\n",
       "</style>\n",
       "<table border=\"1\" class=\"dataframe\">\n",
       "  <thead>\n",
       "    <tr style=\"text-align: right;\">\n",
       "      <th></th>\n",
       "      <th>age</th>\n",
       "      <th>sex</th>\n",
       "      <th>trestbps</th>\n",
       "      <th>chol</th>\n",
       "      <th>fbs</th>\n",
       "      <th>thalach</th>\n",
       "      <th>exang</th>\n",
       "      <th>target</th>\n",
       "    </tr>\n",
       "  </thead>\n",
       "  <tbody>\n",
       "    <tr>\n",
       "      <th>0</th>\n",
       "      <td>63</td>\n",
       "      <td>1</td>\n",
       "      <td>145</td>\n",
       "      <td>233</td>\n",
       "      <td>1</td>\n",
       "      <td>150</td>\n",
       "      <td>0</td>\n",
       "      <td>1</td>\n",
       "    </tr>\n",
       "    <tr>\n",
       "      <th>1</th>\n",
       "      <td>37</td>\n",
       "      <td>1</td>\n",
       "      <td>130</td>\n",
       "      <td>250</td>\n",
       "      <td>0</td>\n",
       "      <td>187</td>\n",
       "      <td>0</td>\n",
       "      <td>1</td>\n",
       "    </tr>\n",
       "    <tr>\n",
       "      <th>2</th>\n",
       "      <td>41</td>\n",
       "      <td>0</td>\n",
       "      <td>130</td>\n",
       "      <td>204</td>\n",
       "      <td>0</td>\n",
       "      <td>172</td>\n",
       "      <td>0</td>\n",
       "      <td>1</td>\n",
       "    </tr>\n",
       "    <tr>\n",
       "      <th>3</th>\n",
       "      <td>56</td>\n",
       "      <td>1</td>\n",
       "      <td>120</td>\n",
       "      <td>236</td>\n",
       "      <td>0</td>\n",
       "      <td>178</td>\n",
       "      <td>0</td>\n",
       "      <td>1</td>\n",
       "    </tr>\n",
       "    <tr>\n",
       "      <th>4</th>\n",
       "      <td>57</td>\n",
       "      <td>0</td>\n",
       "      <td>120</td>\n",
       "      <td>354</td>\n",
       "      <td>0</td>\n",
       "      <td>163</td>\n",
       "      <td>1</td>\n",
       "      <td>1</td>\n",
       "    </tr>\n",
       "  </tbody>\n",
       "</table>\n",
       "</div>"
      ],
      "text/plain": [
       "   age  sex  trestbps  chol  fbs  thalach  exang  target\n",
       "0   63    1       145   233    1      150      0       1\n",
       "1   37    1       130   250    0      187      0       1\n",
       "2   41    0       130   204    0      172      0       1\n",
       "3   56    1       120   236    0      178      0       1\n",
       "4   57    0       120   354    0      163      1       1"
      ]
     },
     "execution_count": 3,
     "metadata": {},
     "output_type": "execute_result"
    }
   ],
   "source": [
    "df = df.drop(['cp', 'restecg', 'oldpeak', 'slope', 'ca', 'thal'], axis=1)\n",
    "df.head()"
   ]
  },
  {
   "cell_type": "markdown",
   "metadata": {},
   "source": [
    "### Attribute Information\n",
    "1. age\n",
    "2. sex (0=female and 1=male)\n",
    "3. resting blood pressure\n",
    "4. serum cholestoral in mg/dl\n",
    "5. fasting blood sugar > 120 mg/dl\n",
    "6. maximum heart rate achieved\n",
    "7. exercise induced angina\n",
    "8. target: 0= less chance of heart attack 1= more chance of heart attack"
   ]
  },
  {
   "cell_type": "code",
   "execution_count": 41,
   "metadata": {},
   "outputs": [],
   "source": [
    "#Importing some classifications techniques from the sklearn library\n",
    "from sklearn.linear_model import LogisticRegression as LR\n",
    "from sklearn.svm import SVC\n",
    "from sklearn.tree import DecisionTreeClassifier"
   ]
  },
  {
   "cell_type": "code",
   "execution_count": 50,
   "metadata": {},
   "outputs": [],
   "source": [
    "#Converting data to numpy array\n",
    "import numpy as np\n",
    "age = np.expand_dims(df.age.to_numpy(), -1)\n",
    "sex = np.expand_dims(df.sex.to_numpy(), -1)\n",
    "trestbps = np.expand_dims(df.trestbps.to_numpy(), -1)\n",
    "chol = np.expand_dims(df.chol.to_numpy(), -1)\n",
    "fbs = np.expand_dims(df.fbs.to_numpy(), -1)\n",
    "thalach = np.expand_dims(df.thalach.to_numpy(), -1)\n",
    "exang = np.expand_dims(df.exang.to_numpy(), -1)\n",
    "X = np.append(age, sex, axis=1)\n",
    "X = np.append(X, trestbps, axis=1)\n",
    "X = np.append(X, chol, axis=1)\n",
    "X = np.append(X, fbs, axis=1)\n",
    "X = np.append(X, thalach, axis=1)\n",
    "X = np.append(X, exang, axis=1)\n",
    "y = np.expand_dims(df.target.to_numpy(), -1)"
   ]
  },
  {
   "cell_type": "code",
   "execution_count": 51,
   "metadata": {},
   "outputs": [],
   "source": [
    "#Using train-test split\n",
    "from sklearn.model_selection import train_test_split as tts\n",
    "X_train, X_test, y_train, y_test = tts(X, y, test_size=0.30)"
   ]
  },
  {
   "cell_type": "code",
   "execution_count": 58,
   "metadata": {},
   "outputs": [
    {
     "name": "stderr",
     "output_type": "stream",
     "text": [
      "/Library/Frameworks/Python.framework/Versions/3.8/lib/python3.8/site-packages/sklearn/utils/validation.py:73: DataConversionWarning: A column-vector y was passed when a 1d array was expected. Please change the shape of y to (n_samples, ), for example using ravel().\n",
      "  return f(**kwargs)\n",
      "/Library/Frameworks/Python.framework/Versions/3.8/lib/python3.8/site-packages/sklearn/linear_model/_logistic.py:760: ConvergenceWarning: lbfgs failed to converge (status=1):\n",
      "STOP: TOTAL NO. of ITERATIONS REACHED LIMIT.\n",
      "\n",
      "Increase the number of iterations (max_iter) or scale the data as shown in:\n",
      "    https://scikit-learn.org/stable/modules/preprocessing.html\n",
      "Please also refer to the documentation for alternative solver options:\n",
      "    https://scikit-learn.org/stable/modules/linear_model.html#logistic-regression\n",
      "  n_iter_i = _check_optimize_result(\n"
     ]
    },
    {
     "data": {
      "text/plain": [
       "LogisticRegression()"
      ]
     },
     "execution_count": 58,
     "metadata": {},
     "output_type": "execute_result"
    }
   ],
   "source": [
    "#Fitting a Logistic Regression Model\n",
    "lr_model = LR()\n",
    "lr_model.fit(X_train, y_train)"
   ]
  },
  {
   "cell_type": "code",
   "execution_count": 59,
   "metadata": {},
   "outputs": [
    {
     "name": "stdout",
     "output_type": "stream",
     "text": [
      "The accuracy for class 0 is 69.70\n",
      "The accuracy for class 1 is 77.59\n",
      "The accuracy for the model is 74.73\n"
     ]
    }
   ],
   "source": [
    "#Finding the accuracy of classes\n",
    "from sklearn.metrics import confusion_matrix\n",
    "y_hat = lr_model.predict(X_test)\n",
    "cm = confusion_matrix(y_test, y_hat)\n",
    "tn, fp, fn, tp = cm.ravel()\n",
    "a0 = (tn*100)/(tn+fp)\n",
    "a1 = (tp*100)/(tp+fn)\n",
    "a = lr_model.score(X_test, y_test)*100\n",
    "print(\"The accuracy for class 0 is %.2f\" %a0)\n",
    "print(\"The accuracy for class 1 is %.2f\" %a1)\n",
    "print(\"The accuracy for the model is %.2f\" %a)"
   ]
  },
  {
   "cell_type": "code",
   "execution_count": 60,
   "metadata": {},
   "outputs": [
    {
     "name": "stderr",
     "output_type": "stream",
     "text": [
      "/Library/Frameworks/Python.framework/Versions/3.8/lib/python3.8/site-packages/sklearn/utils/validation.py:73: DataConversionWarning: A column-vector y was passed when a 1d array was expected. Please change the shape of y to (n_samples, ), for example using ravel().\n",
      "  return f(**kwargs)\n",
      "/Library/Frameworks/Python.framework/Versions/3.8/lib/python3.8/site-packages/sklearn/linear_model/_logistic.py:760: ConvergenceWarning: lbfgs failed to converge (status=1):\n",
      "STOP: TOTAL NO. of ITERATIONS REACHED LIMIT.\n",
      "\n",
      "Increase the number of iterations (max_iter) or scale the data as shown in:\n",
      "    https://scikit-learn.org/stable/modules/preprocessing.html\n",
      "Please also refer to the documentation for alternative solver options:\n",
      "    https://scikit-learn.org/stable/modules/linear_model.html#logistic-regression\n",
      "  n_iter_i = _check_optimize_result(\n"
     ]
    },
    {
     "data": {
      "text/plain": [
       "LogisticRegression(class_weight='balanced')"
      ]
     },
     "execution_count": 60,
     "metadata": {},
     "output_type": "execute_result"
    }
   ],
   "source": [
    "#Fitting a Logistic Regression Model which has balanced class weights\n",
    "lr_model = LR(class_weight='balanced')\n",
    "lr_model.fit(X_train, y_train)"
   ]
  },
  {
   "cell_type": "code",
   "execution_count": 61,
   "metadata": {},
   "outputs": [
    {
     "name": "stdout",
     "output_type": "stream",
     "text": [
      "The accuracy for class 0 is 69.70\n",
      "The accuracy for class 1 is 79.31\n",
      "The accuracy for the model is 75.82\n"
     ]
    }
   ],
   "source": [
    "#Finding the accuracy of classes\n",
    "from sklearn.metrics import confusion_matrix\n",
    "y_hat = lr_model.predict(X_test)\n",
    "cm = confusion_matrix(y_test, y_hat)\n",
    "tn, fp, fn, tp = cm.ravel()\n",
    "a0 = (tn*100)/(tn+fp)\n",
    "a1 = (tp*100)/(tp+fn)\n",
    "a = lr_model.score(X_test, y_test)*100\n",
    "print(\"The accuracy for class 0 is %.2f\" %a0)\n",
    "print(\"The accuracy for class 1 is %.2f\" %a1)\n",
    "print(\"The accuracy for the model is %.2f\" %a)"
   ]
  },
  {
   "cell_type": "code",
   "execution_count": 62,
   "metadata": {},
   "outputs": [
    {
     "name": "stderr",
     "output_type": "stream",
     "text": [
      "/Library/Frameworks/Python.framework/Versions/3.8/lib/python3.8/site-packages/sklearn/utils/validation.py:73: DataConversionWarning: A column-vector y was passed when a 1d array was expected. Please change the shape of y to (n_samples, ), for example using ravel().\n",
      "  return f(**kwargs)\n"
     ]
    },
    {
     "data": {
      "text/plain": [
       "SVC()"
      ]
     },
     "execution_count": 62,
     "metadata": {},
     "output_type": "execute_result"
    }
   ],
   "source": [
    "#Fitting a SVC Model\n",
    "svm_model = SVC()\n",
    "svm_model.fit(X_train, y_train)"
   ]
  },
  {
   "cell_type": "code",
   "execution_count": 63,
   "metadata": {},
   "outputs": [
    {
     "name": "stdout",
     "output_type": "stream",
     "text": [
      "The accuracy for class 0 is 57.58\n",
      "The accuracy for class 1 is 70.69\n",
      "The accuracy for the model is 65.93\n"
     ]
    }
   ],
   "source": [
    "#Finding the accuracy of classes\n",
    "yhat = svm_model.predict(X_test)\n",
    "cm = confusion_matrix(y_test, yhat)\n",
    "tn, fp, fn, tp = cm.ravel()\n",
    "a0 = (tn*100)/(tn+fp)\n",
    "a1 = (tp*100)/(tp+fn)\n",
    "a = svm_model.score(X_test, y_test)*100\n",
    "print(\"The accuracy for class 0 is %.2f\" %a0)\n",
    "print(\"The accuracy for class 1 is %.2f\" %a1)\n",
    "print(\"The accuracy for the model is %.2f\" %a)"
   ]
  },
  {
   "cell_type": "code",
   "execution_count": 64,
   "metadata": {},
   "outputs": [
    {
     "name": "stderr",
     "output_type": "stream",
     "text": [
      "/Library/Frameworks/Python.framework/Versions/3.8/lib/python3.8/site-packages/sklearn/utils/validation.py:73: DataConversionWarning: A column-vector y was passed when a 1d array was expected. Please change the shape of y to (n_samples, ), for example using ravel().\n",
      "  return f(**kwargs)\n"
     ]
    },
    {
     "data": {
      "text/plain": [
       "SVC(class_weight='balanced')"
      ]
     },
     "execution_count": 64,
     "metadata": {},
     "output_type": "execute_result"
    }
   ],
   "source": [
    "#Fitting a SVC Model which has balanced class weights\n",
    "svm_model = SVC(class_weight='balanced')\n",
    "svm_model.fit(X_train, y_train)"
   ]
  },
  {
   "cell_type": "code",
   "execution_count": 65,
   "metadata": {},
   "outputs": [
    {
     "name": "stdout",
     "output_type": "stream",
     "text": [
      "The accuracy for class 0 is 60.61\n",
      "The accuracy for class 1 is 68.97\n",
      "The accuracy for the model is 65.93\n"
     ]
    }
   ],
   "source": [
    "#Finding the accuracy of classes\n",
    "yhat = svm_model.predict(X_test)\n",
    "cm = confusion_matrix(y_test, yhat)\n",
    "tn, fp, fn, tp = cm.ravel()\n",
    "a0 = (tn*100)/(tn+fp)\n",
    "a1 = (tp*100)/(tp+fn)\n",
    "a = svm_model.score(X_test, y_test)*100\n",
    "print(\"The accuracy for class 0 is %.2f\" %a0)\n",
    "print(\"The accuracy for class 1 is %.2f\" %a1)\n",
    "print(\"The accuracy for the model is %.2f\" %a)"
   ]
  },
  {
   "cell_type": "code",
   "execution_count": 66,
   "metadata": {},
   "outputs": [
    {
     "data": {
      "text/plain": [
       "Text(0, 0.5, 'Accuracy')"
      ]
     },
     "execution_count": 66,
     "metadata": {},
     "output_type": "execute_result"
    },
    {
     "data": {
      "image/png": "[encoded data removed]",
      "text/plain": [
       "<Figure size 720x720 with 1 Axes>"
      ]
     },
     "metadata": {
      "needs_background": "light"
     },
     "output_type": "display_data"
    }
   ],
   "source": [
    "#Using Decision Tree Classifier with balanced class weights and various depths\n",
    "import matplotlib.pyplot as plt\n",
    "#2\n",
    "Tree2 = DecisionTreeClassifier(criterion=\"entropy\", max_depth = 2, class_weight='balanced')\n",
    "Tree2.fit(X_train, y_train)\n",
    "predTree2 = Tree2.predict(X_test)\n",
    "cm = confusion_matrix(y_test, predTree2)\n",
    "tn, fp, fn, tp = cm.ravel()\n",
    "a0_p1 = (tn*100)/(tn+fp)\n",
    "a1_p1 = (tp*100)/(tp+fn)\n",
    "a_p1 = Tree2.score(X_test, y_test)*100\n",
    "#3\n",
    "Tree3 = DecisionTreeClassifier(criterion=\"entropy\", max_depth = 3, class_weight='balanced')\n",
    "Tree3.fit(X_train, y_train)\n",
    "predTree3 = Tree3.predict(X_test)\n",
    "cm = confusion_matrix(y_test, predTree3)\n",
    "tn, fp, fn, tp = cm.ravel()\n",
    "a0_p2 = (tn*100)/(tn+fp)\n",
    "a1_p2 = (tp*100)/(tp+fn)\n",
    "a_p2 = Tree3.score(X_test, y_test)*100\n",
    "#4\n",
    "Tree4 = DecisionTreeClassifier(criterion=\"entropy\", max_depth = 4, class_weight='balanced')\n",
    "Tree4.fit(X_train, y_train)\n",
    "predTree4 = Tree4.predict(X_test)\n",
    "cm = confusion_matrix(y_test, predTree4)\n",
    "tn, fp, fn, tp = cm.ravel()\n",
    "a0_p3 = (tn*100)/(tn+fp)\n",
    "a1_p3 = (tp*100)/(tp+fn)\n",
    "a_p3 = Tree4.score(X_test, y_test)*100\n",
    "#5\n",
    "Tree5 = DecisionTreeClassifier(criterion=\"entropy\", max_depth = 5, class_weight='balanced')\n",
    "Tree5.fit(X_train, y_train)\n",
    "predTree5 = Tree5.predict(X_test)\n",
    "cm = confusion_matrix(y_test, predTree5)\n",
    "tn, fp, fn, tp = cm.ravel()\n",
    "a0_p4 = (tn*100)/(tn+fp)\n",
    "a1_p4 = (tp*100)/(tp+fn)\n",
    "a_p4 = Tree5.score(X_test, y_test)*100\n",
    "#6\n",
    "Tree6 = DecisionTreeClassifier(criterion=\"entropy\", max_depth = 6, class_weight='balanced')\n",
    "Tree6.fit(X_train, y_train)\n",
    "predTree6 = Tree6.predict(X_test)\n",
    "cm = confusion_matrix(y_test, predTree6)\n",
    "tn, fp, fn, tp = cm.ravel()\n",
    "a0_p5 = (tn*100)/(tn+fp)\n",
    "a1_p5 = (tp*100)/(tp+fn)\n",
    "a_p5 = Tree6.score(X_test, y_test)*100\n",
    "#7\n",
    "Tree7 = DecisionTreeClassifier(criterion=\"entropy\", max_depth = 7, class_weight='balanced')\n",
    "Tree7.fit(X_train, y_train)\n",
    "predTree7 = Tree7.predict(X_test)\n",
    "cm = confusion_matrix(y_test, predTree7)\n",
    "tn, fp, fn, tp = cm.ravel()\n",
    "a0_p6 = (tn*100)/(tn+fp)\n",
    "a1_p6 = (tp*100)/(tp+fn)\n",
    "a_p6 = Tree7.score(X_test, y_test)*100\n",
    "figure = plt.figure(figsize=(10,10))\n",
    "axes = plt.gca()\n",
    "axes.set_aspect('equal')\n",
    "x_list = [2,3,4,5,6,7]\n",
    "a0_list = [a0_p1,a0_p2,a0_p3,a0_p4,a0_p5,a0_p6]\n",
    "a1_list = [a1_p1,a1_p2,a1_p3,a1_p4,a1_p5,a1_p6]\n",
    "a_list = [a_p1,a_p2,a_p3,a_p4,a_p5,a_p6]\n",
    "axes.plot(x_list, a0_list, c='r',label=\"Accuracy of class 0\")\n",
    "axes.plot(x_list, a1_list, c='b',label=\"Accuracy of class 1\")\n",
    "axes.plot(x_list, a_list, c='g',label=\"Accuracy of the tree\")\n",
    "axes.legend(loc='lower left')\n",
    "plt.xlabel('Max Depth', c='w')\n",
    "plt.ylabel('Accuracy', c='w')"
   ]
  },
  {
   "cell_type": "markdown",
   "metadata": {},
   "source": [
    "# Conclusion\n",
    "The best model to fit the data is the Decision Tree Classifier with criteria as entropy and a maximum tree depth of 4 out of all the models that were creating using the given data. The best model has balanced class weights and an accuracy of 79.12 (2 decimal places)."
   ]
  }
 ],
 "metadata": {
  "kernelspec": {
   "display_name": "Python 3",
   "language": "python",
   "name": "python3"
  },
  "language_info": {
   "codemirror_mode": {
    "name": "ipython",
    "version": 3
   },
   "file_extension": ".py",
   "mimetype": "text/x-python",
   "name": "python",
   "nbconvert_exporter": "python",
   "pygments_lexer": "ipython3",
   "version": "3.8.2"
  }
 },
 "nbformat": 4,
 "nbformat_minor": 4
}
